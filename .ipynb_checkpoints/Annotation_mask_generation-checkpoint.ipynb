{
 "cells": [
  {
   "cell_type": "code",
   "execution_count": 1,
   "metadata": {
    "collapsed": true
   },
   "outputs": [],
   "source": [
    "import pydicom\n",
    "import numpy as np\n",
    "import cv2\n",
    "import matplotlib.pyplot as plt\n",
    "import pylab\n",
    "from PIL import Image"
   ]
  },
  {
   "cell_type": "code",
   "execution_count": 2,
   "metadata": {
    "collapsed": false
   },
   "outputs": [],
   "source": [
    "# Load PR\n",
    "PR = pydicom.dcmread(\"Demo/PR_Demo.dcm\")\n",
    "\n",
    "# Find referenced mammo\n",
    "MGUID = PR.ReferencedSeriesSequence[0].ReferencedImageSequence[0].ReferencedSOPInstanceUID\n",
    "\n",
    "# Load mammo\n",
    "MG = pydicom.dcmread(\"Demo/MG_Demo.dcm\")"
   ]
  },
  {
   "cell_type": "code",
   "execution_count": 3,
   "metadata": {
    "collapsed": true
   },
   "outputs": [],
   "source": [
    "# Find the size of mammo\n",
    "Row = MG.Rows\n",
    "Column = MG.Columns"
   ]
  },
  {
   "cell_type": "code",
   "execution_count": 4,
   "metadata": {
    "collapsed": true
   },
   "outputs": [],
   "source": [
    "# Define a class for graphic annotation object\n",
    "class GraphicObj:\n",
    "    unit = \"\"\n",
    "    numOfPoints = 0\n",
    "    data = []\n",
    "    objType = \"\"\n",
    "    filled = False"
   ]
  },
  {
   "cell_type": "code",
   "execution_count": 5,
   "metadata": {
    "collapsed": true
   },
   "outputs": [],
   "source": [
    "# Read graphic objects from PR\n",
    "GraphicObjs = PR.GraphicAnnotationSequence[0].GraphicObjectSequence"
   ]
  },
  {
   "cell_type": "code",
   "execution_count": 6,
   "metadata": {
    "collapsed": true
   },
   "outputs": [],
   "source": [
    "# Load graphic objects into a list\n",
    "GraphicObjCnt = len(GraphicObjs)\n",
    "\n",
    "ListOfObjs = []\n",
    "for i in range(0, GraphicObjCnt, 1):\n",
    "    cur = GraphicObj()\n",
    "    cur.unit = GraphicObjs[i].GraphicAnnotationUnits\n",
    "    cur.numOfPoints = GraphicObjs[i].NumberOfGraphicPoints\n",
    "    cur.data = GraphicObjs[i].GraphicData\n",
    "    cur.type = GraphicObjs[i].GraphicType\n",
    "    cur.filled = (GraphicObjs[i].GraphicFilled == \"Y\")\n",
    "    ListOfObjs.append(cur)"
   ]
  },
  {
   "cell_type": "code",
   "execution_count": 7,
   "metadata": {
    "collapsed": false
   },
   "outputs": [
    {
     "data": {
      "text/plain": [
       "'ELLIPSE'"
      ]
     },
     "execution_count": 7,
     "metadata": {},
     "output_type": "execute_result"
    }
   ],
   "source": [
    "## This PR contains only one graphic object. Here we draw this object into an image as an example.\n",
    "# Check the graphic type of this object\n",
    "ListOfObjs[0].type"
   ]
  },
  {
   "cell_type": "code",
   "execution_count": 8,
   "metadata": {
    "collapsed": true
   },
   "outputs": [],
   "source": [
    "# Draw the ellipse using cv2.ellipse function. \n",
    "# More details see: https://docs.opencv.org/2.4/modules/core/doc/drawing_functions.html#ellipse\n",
    "\n",
    "#Calculate parameters needed by the function\n",
    "coor = ListOfObjs[0].data\n",
    "\n",
    "centerx = int(np.rint((coor[0]+coor[2]) / 2))           # Coordinates of the cenrter\n",
    "centery = int(np.rint((coor[1]+coor[3]) / 2))\n",
    "\n",
    "longR = int(np.rint(np.sqrt(np.square(coor[0] - coor[2]) + np.square(coor[1] - coor[3])) / 2))      # Length of major / minor radius\n",
    "shortR = int(np.rint(np.sqrt(np.square(coor[4] - coor[6]) + np.square(coor[5] - coor[7])) / 2))\n",
    "\n",
    "if ((coor[0] - coor[2]) == 0):\n",
    "    angle = 0\n",
    "else:\n",
    "    angle = np.arctan((coor[1] - coor[3]) / (coor[0] - coor[2])) *180 / np.pi   # Rotation angle\n",
    "    "
   ]
  },
  {
   "cell_type": "code",
   "execution_count": 9,
   "metadata": {
    "collapsed": true
   },
   "outputs": [],
   "source": [
    "# Draw the ellipse\n",
    "img = np.zeros((Row, Column))\n",
    "white = (255, 255, 255)\n",
    "img = cv2.ellipse(img, (centerx, centery), (longR, shortR), angle, 0, 360, white, -1)\n",
    "image = Image.fromarray(img).convert('RGB')\n",
    "image.save(\"PR_Overlay_Mask.png\")"
   ]
  },
  {
   "cell_type": "code",
   "execution_count": 11,
   "metadata": {
    "collapsed": false
   },
   "outputs": [],
   "source": [
    "# Show this over on the mammo\n",
    "green = (0, 255, 0)\n",
    "img_1 = cv2.ellipse(MG.pixel_array, (centerx,centery),(longR,shortR),angle,0,360,green, 5)\n",
    "image_1 = Image.fromarray(img_1).convert('RGB')"
   ]
  },
  {
   "cell_type": "code",
   "execution_count": 12,
   "metadata": {
    "collapsed": false
   },
   "outputs": [
    {
     "data": {
      "image/png": "[encoded data removed]",
      "text/plain": [
       "<matplotlib.figure.Figure at 0x187d79e8>"
      ]
     },
     "metadata": {},
     "output_type": "display_data"
    }
   ],
   "source": [
    "# Display the images\n",
    "plt.figure(figsize=(20, 10))\n",
    "plt.subplot(1,2,1),plt.imshow(image_1, cmap=pylab.cm.magma), plt.title('Mammography with Overlay')\n",
    "plt.xticks([]), plt.yticks([])\n",
    "plt.subplot(1,2,2),plt.imshow(image, cmap=pylab.cm.gray),plt.title('Overlay Mask')\n",
    "plt.xticks([]), plt.yticks([])\n",
    "plt.show()"
   ]
  },
  {
   "cell_type": "code",
   "execution_count": null,
   "metadata": {
    "collapsed": true
   },
   "outputs": [],
   "source": []
  }
 ],
 "metadata": {
  "kernelspec": {
   "display_name": "Python 3",
   "language": "python",
   "name": "python3"
  },
  "language_info": {
   "codemirror_mode": {
    "name": "ipython",
    "version": 3
   },
   "file_extension": ".py",
   "mimetype": "text/x-python",
   "name": "python",
   "nbconvert_exporter": "python",
   "pygments_lexer": "ipython3",
   "version": "3.6.0"
  }
 },
 "nbformat": 4,
 "nbformat_minor": 2
}
